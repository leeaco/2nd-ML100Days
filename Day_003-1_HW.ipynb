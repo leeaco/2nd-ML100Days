{
 "cells": [
  {
   "cell_type": "markdown",
   "metadata": {},
   "source": [
    "# [作業目標]\n",
    "- 利用範例的創建方式, 創建一組資料, 並練習如何取出最大值"
   ]
  },
  {
   "cell_type": "markdown",
   "metadata": {},
   "source": [
    "# [作業重點]\n",
    "- 練習創立 DataFrame (In[2])\n",
    "- 如何取出口數最多的國家 (In[3], Out[3])"
   ]
  },
  {
   "cell_type": "markdown",
   "metadata": {},
   "source": [
    "## 練習時間\n",
    "在小量的資料上，我們用眼睛就可以看得出來程式碼是否有跑出我們理想中的結果\n",
    "\n",
    "請嘗試想像一個你需要的資料結構 (裡面的值可以是隨機的)，然後用上述的方法把它變成 pandas DataFrame\n",
    "\n",
    "#### Ex: 想像一個 dataframe 有兩個欄位，一個是國家，一個是人口，求人口數最多的國家\n",
    "\n",
    "### Hints: [隨機產生數值](https://blog.csdn.net/christianashannon/article/details/78867204)"
   ]
  },
  {
   "cell_type": "code",
   "execution_count": 21,
   "metadata": {},
   "outputs": [],
   "source": [
    "import pandas as pd\n",
    "import numpy as np"
   ]
  },
  {
   "cell_type": "code",
   "execution_count": 22,
   "metadata": {
    "scrolled": true
   },
   "outputs": [
    {
     "name": "stdout",
     "output_type": "stream",
     "text": [
      "        國家          人口\n",
      "0    India  1379071276\n",
      "1    China  1386071276\n",
      "2  America   327271276\n"
     ]
    }
   ],
   "source": [
    "data = {'國家': ['India','China','America'],\n",
    "        '人口': ['1379071276','1386071276','327271276']}\n",
    "population_1 = pd.DataFrame(data)\n",
    "print(population_1)"
   ]
  },
  {
   "cell_type": "code",
   "execution_count": 48,
   "metadata": {},
   "outputs": [
    {
     "name": "stdout",
     "output_type": "stream",
     "text": [
      "  Country      People\n",
      "0   India  1379071276\n",
      "1   China  1386071276\n",
      "2   U.S.A   327271276\n"
     ]
    }
   ],
   "source": [
    "country = ['India','China','U.S.A']\n",
    "people = ['1379071276','1386071276','327271276']\n",
    "list_label = ['Country','People']\n",
    "list_col = [country, people]\n",
    "\n",
    "zipped = zip(list_label, list_col)   #list(zip(a,b))???\n",
    "\n",
    "population_2 = pd.DataFrame(dict(zipped))  #別忘了dict()\n",
    "print(population_2)"
   ]
  },
  {
   "cell_type": "code",
   "execution_count": 77,
   "metadata": {},
   "outputs": [
    {
     "name": "stdout",
     "output_type": "stream",
     "text": [
      "[643434810, 509038959, 937538038]\n",
      "  Country   Region     People\n",
      "0   India     Asia  698381436\n",
      "1   China     Asia  916185153\n",
      "2   U.S.A  America  955650112\n",
      "\n",
      "各洲總人數\n",
      "Region\n",
      "America     955650112\n",
      "Asia       1614566589\n",
      "Name: People, dtype: int64\n",
      "\n",
      "最多人的國家\n",
      "          Country   Region\n",
      "People                    \n",
      "698381436   India     Asia\n",
      "916185153   China     Asia\n",
      "955650112   U.S.A  America\n"
     ]
    }
   ],
   "source": [
    "region = ['Asia', 'Asia', 'America']\n",
    "people_r = list(np.random.randint(1000000000,size=3))\n",
    "\n",
    "print(people_rand)\n",
    "\n",
    "list_label_r = ['Country','Region','People']\n",
    "list_col_r = [country, region, people_r]\n",
    "\n",
    "zipped_r = list(zip(list_label_r, list_col_r))   \n",
    "\n",
    "population_r = pd.DataFrame(dict(zipped_r))\n",
    "print(population_r)\n",
    "\n",
    "print('\\n各洲總人數')\n",
    "mean_p = population_r.groupby(by=\"Region\")['People'].sum()\n",
    "print(mean_p)\n",
    "\n",
    "print('\\n最多人的國家')\n",
    "max_p = population_r.groupby('People').max()\n",
    "print(max_p)\n"
   ]
  }
 ],
 "metadata": {
  "kernelspec": {
   "display_name": "Python 3",
   "language": "python",
   "name": "python3"
  },
  "language_info": {
   "codemirror_mode": {
    "name": "ipython",
    "version": 3
   },
   "file_extension": ".py",
   "mimetype": "text/x-python",
   "name": "python",
   "nbconvert_exporter": "python",
   "pygments_lexer": "ipython3",
   "version": "3.7.3"
  }
 },
 "nbformat": 4,
 "nbformat_minor": 2
}
